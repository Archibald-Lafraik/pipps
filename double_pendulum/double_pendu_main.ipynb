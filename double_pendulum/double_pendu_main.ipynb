{
 "cells": [
  {
   "cell_type": "code",
   "execution_count": null,
   "metadata": {},
   "outputs": [],
   "source": [
    "%load_ext autoreload\n",
    "%autoreload 2\n",
    "\n",
    "import optax\n",
    "import numpy as np\n",
    "import jax.numpy as jnp\n",
    "import jax.random as jrandom\n",
    "import matplotlib.pyplot as plt\n",
    "\n",
    "from pendulum_rk4 import get_pendulum_sequence, get_cos_sin_states\n",
    "from training import fit\n",
    "from polynomial_model import predict, get_zs\n",
    "from constants import RAND_KEY"
   ]
  },
  {
   "cell_type": "markdown",
   "metadata": {},
   "source": [
    "### Generate double pendulum states with RK4"
   ]
  },
  {
   "cell_type": "code",
   "execution_count": null,
   "metadata": {},
   "outputs": [],
   "source": [
    "dt = 0.01\n",
    "start_state = jnp.array([jnp.pi / 4, jnp.pi / 3, 0., 0.])\n",
    "V0 = jnp.eye(4) * 0.00001\n",
    "trans_noise = jnp.eye(4) * 0.001\n",
    "obs_noise = jnp.eye(4) * 0.001\n",
    "\n",
    "num_steps = 2000\n",
    "N = 100\n",
    "\n",
    "zs, xs = get_pendulum_sequence(start_state, V0, trans_noise, obs_noise, num_steps, N, dt)\n",
    "cos_sin_zs = get_cos_sin_states(zs)"
   ]
  },
  {
   "cell_type": "code",
   "execution_count": null,
   "metadata": {},
   "outputs": [],
   "source": [
    "plt.figure(figsize=(15, 6))\n",
    "# plt.plot(zs[:, 0, 1], label=\"Theta2\")\n",
    "plt.plot(cos_sin_zs[:2000, 0, 2], label=\"Cos Theta2\")\n",
    "plt.plot(cos_sin_zs[:2000, 0, 3], label=\"Sin Theta2\")\n",
    "plt.legend()\n",
    "plt.show()"
   ]
  },
  {
   "cell_type": "code",
   "execution_count": null,
   "metadata": {},
   "outputs": [],
   "source": [
    "plt.figure(figsize=(15, 6))\n",
    "plt.scatter(cos_sin_zs[:-1, :, 4], cos_sin_zs[1:, :, 4], label=\"Sin theta2\")\n",
    "plt.scatter(cos_sin_zs[:-1, :, 3], cos_sin_zs[1:, :, 3], label=\"Cos theta2\")\n",
    "plt.legend()\n",
    "plt.show()"
   ]
  },
  {
   "cell_type": "markdown",
   "metadata": {},
   "source": [
    "### Learn parameters with regression"
   ]
  },
  {
   "cell_type": "code",
   "execution_count": null,
   "metadata": {},
   "outputs": [],
   "source": [
    "dt = 0.01\n",
    "V0 = jnp.eye(4) * 0.0001\n",
    "trans_noise = jnp.eye(4) * 0.001\n",
    "obs_noise = jnp.eye(4) * 0.1\n",
    "\n",
    "num_steps = 10\n",
    "N = 10000\n",
    "NUM_TRAINING_STEPS = 4000\n",
    "LR_ESTIMATOR = False\n",
    "\n",
    "start_state = jnp.array([jnp.pi / 4, jnp.pi / 3, 0., 0.])\n",
    "zs, xs = get_pendulum_sequence(start_state, V0, trans_noise, obs_noise, num_steps, N, dt)\n",
    "cos_sin_zs = get_cos_sin_states(zs)\n",
    "cos_sin_xs = get_cos_sin_states(xs)\n",
    "start_state = jnp.array([\n",
    "    jnp.cos(start_state[0]),\n",
    "    jnp.sin(start_state[0]),\n",
    "    jnp.cos(start_state[1]),\n",
    "    jnp.sin(start_state[1]),\n",
    "])\n",
    "\n",
    "num_features = 4\n",
    "\n",
    "start_weights = jnp.zeros((num_features,))\n",
    "# start_weights = jnp.array([0.2725405, 0.33645087, 0.22920588, 0.15438452])\n",
    "params = jnp.array([start_weights])\n",
    "\n",
    "\n",
    "optimizer = optax.chain(\n",
    "    optax.adam(learning_rate=0.0005),\n",
    "    optax.scale(-1.0)\n",
    ")\n",
    "\n",
    "optimizer.init(params)\n",
    "\n",
    "learned_params, training_objectives, gradients = fit(\n",
    "    params=params,\n",
    "    optimizer=optimizer,\n",
    "    training_steps=NUM_TRAINING_STEPS,\n",
    "    num_features=num_features,\n",
    "    start_state=start_state,\n",
    "    V0=V0, \n",
    "    trans_noise=trans_noise,\n",
    "    obs_noise=obs_noise,\n",
    "    xs=cos_sin_xs,\n",
    "    # xs=cos_sin_zs,\n",
    "    num_steps=num_steps,\n",
    "    N=N,\n",
    "    lr_estimator=LR_ESTIMATOR,\n",
    ")"
   ]
  },
  {
   "cell_type": "code",
   "execution_count": null,
   "metadata": {},
   "outputs": [],
   "source": [
    "epsilons = jrandom.normal(key=RAND_KEY, shape=(num_steps, N, 4))\n",
    "learned_zs = predict(learned_params[0], cos_sin_zs[:-1])\n",
    "pred_zs = get_zs(learned_params[0], start_state, V0, trans_noise, epsilons)\n",
    "pred_angles = jnp.arctan2(pred_zs[:, :, 0], pred_zs[:, :, 1])\n",
    "\n",
    "plt.figure(figsize=(10, 6))\n",
    "plt.scatter(cos_sin_zs[:-1, :, 2], cos_sin_zs[1:, :, 3], label=\"Ground truth\")\n",
    "plt.scatter(pred_zs[:-1, :, 2], pred_zs[1:, :, 3], label=\"State sequence prediction\")\n",
    "# plt.plot(pred_angles.mean(axis=1))\n",
    "# plt.plot(zs[:, :, 0].mean(axis=1))\n",
    "plt.legend()\n",
    "plt.show()"
   ]
  }
 ],
 "metadata": {
  "interpreter": {
   "hash": "b0d0f0160cacfb35fe8642b675725525dd1061e27bd6ae6db2781150554066f0"
  },
  "kernelspec": {
   "display_name": "Python 3.7.3 ('venv': venv)",
   "language": "python",
   "name": "python3"
  },
  "language_info": {
   "codemirror_mode": {
    "name": "ipython",
    "version": 3
   },
   "file_extension": ".py",
   "mimetype": "text/x-python",
   "name": "python",
   "nbconvert_exporter": "python",
   "pygments_lexer": "ipython3",
   "version": "3.7.5"
  },
  "orig_nbformat": 4
 },
 "nbformat": 4,
 "nbformat_minor": 2
}
