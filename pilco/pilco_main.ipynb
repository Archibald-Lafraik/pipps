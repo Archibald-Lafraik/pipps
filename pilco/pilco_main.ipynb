{
 "cells": [
  {
   "cell_type": "code",
   "execution_count": 8,
   "metadata": {},
   "outputs": [
    {
     "name": "stdout",
     "output_type": "stream",
     "text": [
      "The autoreload extension is already loaded. To reload it, use:\n",
      "  %reload_ext autoreload\n"
     ]
    }
   ],
   "source": [
    "%load_ext autoreload\n",
    "%autoreload 2\n",
    "\n",
    "import haiku as hk\n",
    "import jax.numpy as jnp\n",
    "import numpy as np\n",
    "import optax\n",
    "import random\n",
    "import gym\n",
    "import jax.random as jrandom\n",
    "from jax import vmap, jit\n",
    "import matplotlib.pyplot as plt\n",
    "\n",
    "from sklearn.gaussian_process import GaussianProcessRegressor\n",
    "from sklearn.gaussian_process.kernels import RBF\n",
    "\n",
    "from replay_buffer import ReplayBuffer\n",
    "from constants import SEED\n",
    "from policy import policy_grad, lr_gradients, get_sequence_rewards\n",
    "from pilco_utils import get_trajectories, rollout_episode\n",
    "from rff import phi_X, phi_X_batch\n",
    "from trans_model import prior, train_transition_models, predict, lklhood_grad, marg_lklhood\n",
    "from rbf import rbf_policy\n",
    "from neural_nets import get_params"
   ]
  },
  {
   "cell_type": "code",
   "execution_count": 2,
   "metadata": {},
   "outputs": [
    {
     "name": "stderr",
     "output_type": "stream",
     "text": [
      "/Users/damso/Year4/FYP/pipps/venv/lib/python3.7/site-packages/gym/utils/env_checker.py:145: UserWarning: \u001b[33mWARN: Agent's minimum observation space value is -infinity. This is probably too low.\u001b[0m\n",
      "  \"Agent's minimum observation space value is -infinity. This is probably too low.\"\n",
      "/Users/damso/Year4/FYP/pipps/venv/lib/python3.7/site-packages/gym/utils/env_checker.py:149: UserWarning: \u001b[33mWARN: Agent's maxmimum observation space value is infinity. This is probably too high\u001b[0m\n",
      "  \"Agent's maxmimum observation space value is infinity. This is probably too high\"\n",
      "/Users/damso/Year4/FYP/pipps/venv/lib/python3.7/site-packages/gym/utils/env_checker.py:201: UserWarning: \u001b[33mWARN: We recommend you to use a symmetric and normalized Box action space (range=[-1, 1]) cf https://stable-baselines3.readthedocs.io/en/master/guide/rl_tips.html\u001b[0m\n",
      "  \"We recommend you to use a symmetric and normalized Box action space (range=[-1, 1]) \"\n"
     ]
    }
   ],
   "source": [
    "env = gym.make('InvertedPendulum-v4')\n",
    "state_dim = env.observation_space.shape[0]"
   ]
  },
  {
   "cell_type": "markdown",
   "metadata": {},
   "source": [
    "### Run random policy to collect training data"
   ]
  },
  {
   "cell_type": "code",
   "execution_count": 112,
   "metadata": {},
   "outputs": [
    {
     "name": "stdout",
     "output_type": "stream",
     "text": [
      "3000\n"
     ]
    }
   ],
   "source": [
    "INIT_EPISODES = 100\n",
    "BUFFER_CAPACITY = 1000\n",
    "HORIZON = 30\n",
    "\n",
    "replay_buffer = ReplayBuffer(capacity=BUFFER_CAPACITY)\n",
    "\n",
    "for ep in range(INIT_EPISODES):\n",
    "    cur_state = env.reset()\n",
    "    done = False\n",
    "    \n",
    "    for t in range(HORIZON):\n",
    "        action = np.array([random.uniform(-1., 1.)])\n",
    "        prev_state = cur_state\n",
    "\n",
    "        cur_state, _, done, _ = env.step(action)\n",
    "        replay_buffer.push(prev_state, action.squeeze(), cur_state)\n",
    "\n",
    "\n",
    "print(len(replay_buffer))"
   ]
  },
  {
   "cell_type": "code",
   "execution_count": 90,
   "metadata": {},
   "outputs": [
    {
     "data": {
      "image/png": "[encoded data removed]",
      "text/plain": [
       "<Figure size 1440x432 with 1 Axes>"
      ]
     },
     "metadata": {
      "needs_background": "light"
     },
     "output_type": "display_data"
    }
   ],
   "source": [
    "transitions = replay_buffer.memory[:200]\n",
    "states = jnp.array(list(map(lambda t: t.state, transitions)))\n",
    "actions = jnp.array(list(map(lambda t: t.action, transitions)))\n",
    "next_states = jnp.array(list(map(lambda t: t.next_state, transitions)))\n",
    "\n",
    "plt.figure(figsize=(20, 6))\n",
    "plt.scatter(states[:, 3], next_states[:, 3], color='orange', label=\"State transitions\")\n",
    "plt.legend()\n",
    "plt.show()"
   ]
  },
  {
   "cell_type": "markdown",
   "metadata": {},
   "source": [
    "### Compute posterior distribution for transition models"
   ]
  },
  {
   "cell_type": "code",
   "execution_count": 113,
   "metadata": {},
   "outputs": [],
   "source": [
    "theta = jnp.full((state_dim + 1,), .9)\n",
    "BETAS = jnp.full((4,), 20.)\n",
    "MODEL_NOISES = jnp.array([0.3, 0.3, 1., 3.])\n",
    "ALPHA = .3\n",
    "N = 1000\n",
    "NUM_FEATURES = 3\n",
    "\n",
    "model_d1 = prior(NUM_FEATURES, alpha=ALPHA)\n",
    "model_d2 = prior(NUM_FEATURES, alpha=ALPHA)\n",
    "model_d3 = prior(NUM_FEATURES, alpha=ALPHA)\n",
    "model_d4 = prior(NUM_FEATURES, alpha=ALPHA)\n",
    "\n",
    "trans_models_pre = [model_d1, model_d2, model_d3, model_d4]\n",
    "trans_models_post = train_transition_models(\n",
    "    replay_buffer, BETAS, trans_models_pre, NUM_FEATURES\n",
    ")"
   ]
  },
  {
   "cell_type": "markdown",
   "metadata": {},
   "source": [
    "### Optimise Transition Model Parameters"
   ]
  },
  {
   "cell_type": "code",
   "execution_count": null,
   "metadata": {},
   "outputs": [],
   "source": [
    "key = SEED\n",
    "cur_keys = jrandom.split(key, num=3)\n",
    "N = 1000\n",
    "SEQ_LEN = 20\n",
    "\n",
    "transitions = replay_buffer.memory[:SEQ_LEN]\n",
    "states = jnp.array(list(map(lambda t: t.state, transitions)))\n",
    "actions = jnp.array(list(map(lambda t: t.action, transitions)))\n",
    "next_states = jnp.array(list(map(lambda t: t.next_state, transitions)))\n",
    "\n",
    "params = jnp.array([coefs])\n",
    "optimizer = optax.chain(\n",
    "    optax.adam(learning_rate=0.06),\n",
    "    optax.scale(-1.0)\n",
    ")\n",
    "opt_state = optimizer.init(params)\n",
    "\n",
    "for i in range(35):\n",
    "    trans = jrandom.normal(cur_keys[0], shape=(N, SEQ_LEN, 4))\n",
    "    omega = jrandom.normal(cur_keys[1], shape=(N, NUM_FEATURES, 2))\n",
    "    phi = jrandom.uniform(cur_keys[2], minval=0, maxval=2 * jnp.pi, shape=(N, NUM_FEATURES, 1))\n",
    "\n",
    "    grads = lklhood_grad(states, NUM_FEATURES, lengthscales, params[0], BETAS, MODEL_NOISE, 2, actions, next_states, trans, omega, phi, *trans_models_post)\n",
    "\n",
    "    updates, opt_state = optimizer.update(grads, opt_state, params)\n",
    "    params = optax.apply_updates(params, updates)\n",
    "\n",
    "    if i % 5 == 0:\n",
    "        objective = marg_lklhood(states, NUM_FEATURES, lengthscales, params[0], BETAS, MODEL_NOISE, actions, next_states, trans, omega, phi, *trans_models_post)\n",
    "        print(f\"Step {i}, objective: {objective}\")\n",
    "\n",
    "np.save('optimal_coefs.npy', np.asarray(params[0]))"
   ]
  },
  {
   "cell_type": "markdown",
   "metadata": {},
   "source": [
    "### Test Next State Predictions"
   ]
  },
  {
   "cell_type": "code",
   "execution_count": 100,
   "metadata": {},
   "outputs": [
    {
     "name": "stdout",
     "output_type": "stream",
     "text": [
      "Pred: [ 0.00734334  0.00123371  0.11980547 -0.2511527 ]\n",
      "True: [ 0.01321297 -0.01196444  0.16957459 -0.38452708]\n"
     ]
    }
   ],
   "source": [
    "sStart_state = env.reset()\n",
    "action = jnp.array([.5])\n",
    "N = 1000\n",
    "\n",
    "@jit\n",
    "def pred(start_st, state_eps, trans_eps, betas, model_noise, m_d1, m_d2, m_d3, m_d4):\n",
    "    model_input = jnp.stack([start_st, jnp.full((4,), action), jnp.ones((4,))]).T\n",
    "    d1 = predict(*m_d1, betas[0], model_input[0], trans_eps[0])\n",
    "    d2 = predict(*m_d2, betas[1], model_input[1], trans_eps[1])\n",
    "    d3 = predict(*m_d3, betas[2], model_input[2], trans_eps[2])\n",
    "    d4 = predict(*m_d4, betas[3], model_input[3], trans_eps[3])\n",
    "\n",
    "    next_mean = jnp.array([d1, d2, d3, d4]) + start_st\n",
    "    next_state = next_mean + state_eps * model_noise\n",
    "    return next_state\n",
    "\n",
    "def state_prediction(start_state, state_epsilons, trans_epsilons, betas, model_noise, trans_models):\n",
    "    foo = vmap(pred, (None, 0, 0, None, None, None, None, None, None))\n",
    "    predictions = foo(\n",
    "        start_state, state_epsilons, trans_epsilons, betas, model_noise, *trans_models\n",
    "    )\n",
    "\n",
    "    return predictions\n",
    "\n",
    "keys = jrandom.split(SEED, num=4)\n",
    "state_eps = jrandom.normal(keys[0], shape=(N, 4))\n",
    "trans_eps = jrandom.normal(keys[1], shape=(N, 4))\n",
    "\n",
    "\n",
    "predictions_post = state_prediction(\n",
    "    jnp.zeros((4,)), state_eps, trans_eps, BETAS, MODEL_NOISES, trans_models_post\n",
    "    ).mean(axis=0)\n",
    "print(f\"Pred: {predictions_post}\")\n",
    "print(f\"True: {env.step(action)[0]}\")"
   ]
  },
  {
   "cell_type": "code",
   "execution_count": 110,
   "metadata": {},
   "outputs": [],
   "source": [
    "transitions = replay_buffer.memory\n",
    "states = jnp.array(list(map(lambda t: t.state, transitions)))\n",
    "actions = jnp.array(list(map(lambda t: t.action, transitions)))\n",
    "next_states = jnp.array(list(map(lambda t: t.next_state, transitions)))\n",
    "\n",
    "N = 10000\n",
    "key = SEED\n",
    "keys = jrandom.split(key, num=4)\n",
    "num_states = 3000\n",
    "pred_next_states = np.zeros((num_states, 4))\n",
    "\n",
    "for i, start_state in enumerate(states):\n",
    "    state_eps = jrandom.normal(keys[0], shape=(N, 4))\n",
    "    trans_eps = jrandom.normal(keys[1], shape=(N, 4))\n",
    "\n",
    "    pred_st = state_prediction(\n",
    "        start_state, state_eps, trans_eps, BETAS, MODEL_NOISES, trans_models_post\n",
    "    ).mean(axis=0)\n",
    "    pred_next_states[i] = pred_st"
   ]
  },
  {
   "cell_type": "code",
   "execution_count": 111,
   "metadata": {},
   "outputs": [
    {
     "data": {
      "image/png": "[encoded data removed]",
      "text/plain": [
       "<Figure size 1440x432 with 1 Axes>"
      ]
     },
     "metadata": {
      "needs_background": "light"
     },
     "output_type": "display_data"
    }
   ],
   "source": [
    "plt.figure(figsize=(20, 6))\n",
    "plt.scatter(states[:, 3], next_states[:, 3], color='orange', label=\"True transitions\")\n",
    "plt.scatter(states[:, 3], pred_next_states[:, 3], color='cornflowerblue', label=\"Predicted transitions\")\n",
    "# plt.scatter(states[:, 0], pred_next_states[:, 0], color='orange', label=\"Predicted transitions\")\n",
    "plt.legend()\n",
    "plt.show()"
   ]
  },
  {
   "cell_type": "markdown",
   "metadata": {},
   "source": [
    "### Compute Policy Gradients"
   ]
  },
  {
   "cell_type": "code",
   "execution_count": null,
   "metadata": {},
   "outputs": [],
   "source": [
    "NOISE = 0.1\n",
    "N = 10000\n",
    "eps = 0.005\n",
    "\n",
    "costs = np.zeros((2,))\n",
    "key = jrandom.PRNGKey(5)\n",
    "for j, i in enumerate([-1, 1]):\n",
    "    keys = jrandom.split(key, num=4)\n",
    "    state_epsilons = jrandom.normal(key=keys[0], shape=(N, HORIZON, 4))\n",
    "    trans_epsilons = jrandom.normal(key=keys[1], shape=(N, HORIZON, 4))\n",
    "   \n",
    "    theta = jnp.array([1. + i * eps, 1., 1., 1., 1])\n",
    "    trajectories = get_trajectories(\n",
    "        theta, BETAS, env, *trans_models_post, HORIZON, NOISE, state_epsilons, trans_epsilons\n",
    "        )\n",
    "    avg_cost = vmap(get_sequence_rewards, (0,))(trajectories).mean()\n",
    "    costs[j] = avg_cost\n",
    "    print(avg_cost)\n",
    "\n",
    "diff_grad = (costs[1] - costs[0]) / (2 * eps)\n",
    "print(diff_grad)"
   ]
  },
  {
   "cell_type": "code",
   "execution_count": null,
   "metadata": {},
   "outputs": [],
   "source": [
    "# RBF_BASES = 5\n",
    "# theta = jnp.zeros((RBF_BASES, 2 + state_dim ** 2))\n",
    "# theta = theta.at[:, 2:].set(jnp.eye(state_dim).reshape(-1))\n",
    "theta = jrandom.normal(SEED, shape=(1 + state_dim * 4,))\n",
    "BETAS = jnp.full((4,), 1.)\n",
    "ALPHA = 0.3\n",
    "N = 10000\n",
    "HORIZON = 10\n",
    "NUM_FEATURES = 3\n",
    "NOISE = 0.2\n",
    "\n",
    "model_d1 = prior(NUM_FEATURES, alpha=ALPHA)\n",
    "model_d2 = prior(NUM_FEATURES, alpha=ALPHA)\n",
    "model_d3 = prior(NUM_FEATURES, alpha=ALPHA)\n",
    "model_d4 = prior(NUM_FEATURES, alpha=ALPHA)\n",
    "\n",
    "trans_models = [model_d1, model_d2, model_d3, model_d4]\n",
    "\n",
    "trans_models_post = train_transition_models(replay_buffer, BETAS, trans_models, NUM_FEATURES)\n",
    "\n",
    "model_d1, model_d2, model_d3, model_d4 = trans_models_post\n",
    "\n",
    "keys = jrandom.split(SEED, num=7)\n",
    "state_epsilons = jrandom.normal(key=keys[0], shape=(N, HORIZON, 4))\n",
    "trans_epsilons = jrandom.normal(key=keys[1], shape=(N, HORIZON, 4))\n",
    "\n",
    "# LR gradients\n",
    "trajectories = get_trajectories(\n",
    "    theta, BETAS, env, *trans_models_post, HORIZON, NOISE, state_epsilons, trans_epsilons\n",
    "    )\n",
    "lr_grads = lr_gradients(\n",
    "    theta, BETAS, *trans_models_post, HORIZON, NOISE, trajectories, trans_epsilons,\n",
    "    )\n",
    "print(f\"LR: {lr_grads}\")\n",
    "\n",
    "\n",
    "# RP gradients\n",
    "rp_grads = policy_grad(\n",
    "    theta, BETAS, *trans_models_post, env, HORIZON, NOISE, state_epsilons, trans_epsilons,\n",
    ")\n",
    "print(f\"RP: {rp_grads}\")"
   ]
  },
  {
   "cell_type": "markdown",
   "metadata": {},
   "source": [
    "### Particle-based PILCO"
   ]
  },
  {
   "cell_type": "code",
   "execution_count": 115,
   "metadata": {},
   "outputs": [
    {
     "name": "stdout",
     "output_type": "stream",
     "text": [
      "Ep 0, objective: 20.5\n",
      "Ep 10, objective: 87.9\n",
      "Ep 20, objective: 71.4\n",
      "Ep 30, objective: 76.5\n",
      "Ep 40, objective: 84.1\n",
      "Ep 50, objective: 96.4\n",
      "Ep 60, objective: 100.0\n"
     ]
    }
   ],
   "source": [
    "MAX_EPISODES = 300\n",
    "NOISE = 0.3\n",
    "HORIZON = 10\n",
    "TEST_HORIZON = 100\n",
    "N = 1000\n",
    "TRAIN_LOOPS = 10\n",
    "key = SEED\n",
    "\n",
    "trans_models = trans_models_post\n",
    "\n",
    "params = get_params()\n",
    "\n",
    "# theta = jrandom.normal(SEED, shape=(1 + state_dim * 3,))\n",
    "# params = jnp.array([theta])\n",
    "\n",
    "optimizer = optax.chain(\n",
    "    optax.adam(learning_rate=0.001),\n",
    "    # optax.scale(-1.0)\n",
    ")\n",
    "\n",
    "opt_state = optimizer.init(params)\n",
    "\n",
    "subkeys = jrandom.split(key, num=6)\n",
    "for ep in range(MAX_EPISODES):\n",
    "    key = subkeys[0]\n",
    "\n",
    "    state_epsilons = jrandom.normal(key=subkeys[1], shape=(N, HORIZON, 4))\n",
    "    trans_epsilons = jrandom.normal(key=subkeys[2], shape=(N, HORIZON, 4))\n",
    "\n",
    "    model_d1 = prior(NUM_FEATURES, alpha=ALPHA)\n",
    "    model_d2 = prior(NUM_FEATURES, alpha=ALPHA)\n",
    "    model_d3 = prior(NUM_FEATURES, alpha=ALPHA)\n",
    "    model_d4 = prior(NUM_FEATURES, alpha=ALPHA)\n",
    "\n",
    "    trans_models = [model_d1, model_d2, model_d3, model_d4]\n",
    "\n",
    "    # Train model with all available data\n",
    "    trans_models = train_transition_models(replay_buffer, BETAS, trans_models, NUM_FEATURES)\n",
    "\n",
    "    for _ in range(TRAIN_LOOPS):\n",
    "        # Compute the policy gradient\n",
    "        # trajectories = get_trajectories(theta, BETA, env, *trans_models, HORIZON, NOISE, state_epsilons, trans_epsilons)\n",
    "        # grads = lr_gradients(theta, BETA, *trans_models, HORIZON, NOISE, trajectories, trans_epsilons)\n",
    "\n",
    "        # RP gradients\n",
    "        grads = policy_grad(\n",
    "            params,\n",
    "            BETAS,\n",
    "            *trans_models,\n",
    "            env,\n",
    "            HORIZON,\n",
    "            NOISE,\n",
    "            state_epsilons,\n",
    "            trans_epsilons,\n",
    "        )\n",
    "        updates, opt_state = optimizer.update(grads, opt_state, params)\n",
    "        params = optax.apply_updates(params, updates)\n",
    "\n",
    "    # Roll-out policy online for an episode and add to replay buffer\n",
    "\n",
    "    if ep % 10 == 0:\n",
    "        cur_obj = 0\n",
    "        for j in range(10):\n",
    "            cur_obj += rollout_episode(env, TEST_HORIZON, replay_buffer, params)\n",
    "        cur_obj /= 10\n",
    "        # print(f\"Ep {ep}, objective: {cur_obj}, theta: {theta}\")\n",
    "        print(f\"Ep {ep}, objective: {cur_obj}\")\n",
    "\n",
    "final_obj = rollout_episode(env, TEST_HORIZON, replay_buffer, params)\n",
    "print(f\"Final score: {final_obj}\")\n"
   ]
  },
  {
   "cell_type": "markdown",
   "metadata": {},
   "source": [
    "### Collect and organise training and testing data"
   ]
  },
  {
   "cell_type": "code",
   "execution_count": null,
   "metadata": {},
   "outputs": [],
   "source": [
    "train_X, train_y, test_X, test_y = replay_buffer.get_train_test_arrays()\n",
    "\n",
    "train_X_d1 = train_X[:, :2]\n",
    "train_X_d2 = train_X[:, 2:4]\n",
    "train_X_d3 = train_X[:, 4:6]\n",
    "train_X_d4 = train_X[:, 6:8]\n",
    "test_X_d1 = test_X[:, :2]\n",
    "test_X_d2 = test_X[:, 2:4]\n",
    "test_X_d3 = test_X[:, 4:6]\n",
    "test_X_d4 = test_X[:, 6:8]\n",
    "\n",
    "train_y_d1 = train_y[:, 0]\n",
    "train_y_d2 = train_y[:, 1]\n",
    "train_y_d3 = train_y[:, 2]\n",
    "train_y_d4 = train_y[:, 3]\n",
    "test_y_d1 = test_y[:, 0]\n",
    "test_y_d2 = test_y[:, 1]\n",
    "test_y_d3 = test_y[:, 2]\n",
    "test_y_d4 = test_y[:, 3]"
   ]
  },
  {
   "cell_type": "markdown",
   "metadata": {},
   "source": [
    "### Apply Random Fourier Features"
   ]
  },
  {
   "cell_type": "code",
   "execution_count": null,
   "metadata": {},
   "outputs": [],
   "source": [
    "NUM_FEATURES = 2000\n",
    "\n",
    "omega = jrandom.normal(key=SEED, shape=(NUM_FEATURES, 2))\n",
    "phi = jrandom.uniform(key=SEED, minval=0, maxval=2 * jnp.pi, shape=(NUM_FEATURES, 1))\n",
    "lengthscales = jnp.full((NUM_FEATURES, 1), 1.)\n",
    "coefs = jnp.full_like(lengthscales, 1.)\n",
    "\n",
    "phi_X_train_d1 = phi_X(train_X_d1, NUM_FEATURES, lengthscales, coefs, omega, phi)\n",
    "phi_X_test_d1 = phi_X(test_X_d1, NUM_FEATURES, lengthscales, coefs, omega, phi)\n",
    "phi_X_train_d2 = phi_X(train_X_d2, NUM_FEATURES, lengthscales, coefs, omega, phi)\n",
    "phi_X_test_d2 = phi_X(test_X_d2, NUM_FEATURES, lengthscales, coefs, omega, phi)\n",
    "phi_X_train_d3 = phi_X(train_X_d3, NUM_FEATURES, lengthscales, coefs, omega, phi)\n",
    "phi_X_test_d3 = phi_X(test_X_d3, NUM_FEATURES, lengthscales, coefs, omega, phi)\n",
    "phi_X_train_d4 = phi_X(train_X_d4, NUM_FEATURES, lengthscales, coefs, omega, phi)\n",
    "phi_X_test_d4 = phi_X(test_X_d4, NUM_FEATURES, lengthscales, coefs, omega, phi)"
   ]
  },
  {
   "cell_type": "markdown",
   "metadata": {},
   "source": [
    "### Train RFF transition model"
   ]
  },
  {
   "cell_type": "code",
   "execution_count": null,
   "metadata": {},
   "outputs": [],
   "source": [
    "\n",
    "model_d1 = BLR(NUM_FEATURES, alpha=0.3, beta=1.)\n",
    "model_d2 = BLR(NUM_FEATURES, alpha=0.3, beta=1.)\n",
    "model_d3 = BLR(NUM_FEATURES, alpha=0.3, beta=1.)\n",
    "model_d4 = BLR(NUM_FEATURES, alpha=0.3, beta=1.)\n",
    "\n",
    "model_d1.posterior(phi_X_train_d1, train_y_d1)\n",
    "model_d2.posterior(phi_X_train_d2, train_y_d2)\n",
    "model_d3.posterior(phi_X_train_d3, train_y_d3)\n",
    "model_d4.posterior(phi_X_train_d4, train_y_d4)\n",
    "\n",
    "d1_preds = np.zeros_like(test_y_d1)\n",
    "d2_preds = np.zeros_like(test_y_d2)\n",
    "d3_preds = np.zeros_like(test_y_d3)\n",
    "d4_preds = np.zeros_like(test_y_d4)\n",
    "\n",
    "for i in range(test_y_d1.shape[0]):\n",
    "    d1_preds = model_d1.predict(phi_X_test_d1).mean()\n",
    "    d2_preds = model_d2.predict(phi_X_test_d2).mean()\n",
    "    d3_preds = model_d3.predict(phi_X_test_d3).mean()\n",
    "    d4_preds = model_d4.predict(phi_X_test_d4).mean()\n",
    "\n",
    "\n",
    "\n",
    "print(f\"MSE d1: {metrics.mean_absolute_error(test_y_d1, d1_preds)}\")\n",
    "print(f\"MSE d2: {metrics.mean_absolute_error(test_y_d2, d2_preds)}\")\n",
    "print(f\"MSE d3: {metrics.mean_absolute_error(test_y_d3, d3_preds)}\")\n",
    "print(f\"MSE d4: {metrics.mean_absolute_error(test_y_d4, d4_preds)}\")"
   ]
  },
  {
   "cell_type": "markdown",
   "metadata": {},
   "source": [
    "### Train Gaussian process transition model"
   ]
  },
  {
   "cell_type": "code",
   "execution_count": null,
   "metadata": {},
   "outputs": [],
   "source": [
    "\n",
    "gp_d1 = GaussianProcessRegressor(kernel=RBF(length_scale_bounds=(1e-4, 1e3)), n_restarts_optimizer=9)\n",
    "gp_d2 = GaussianProcessRegressor(kernel=RBF(length_scale_bounds=(1e-4, 1e3)), n_restarts_optimizer=9)\n",
    "gp_d3 = GaussianProcessRegressor(kernel=RBF(length_scale_bounds=(1e-4, 1e3)), n_restarts_optimizer=9)\n",
    "gp_d4 = GaussianProcessRegressor(kernel=RBF(length_scale_bounds=(1e-4, 1e3)), n_restarts_optimizer=9)\n",
    "\n",
    "gp_d1.fit(train_X_d1, train_y_d1)\n",
    "gp_d2.fit(train_X_d2, train_y_d2)\n",
    "gp_d3.fit(train_X_d3, train_y_d3)\n",
    "gp_d4.fit(train_X_d4, train_y_d4)\n",
    "\n",
    "d1_preds_gp = np.zeros_like(test_y_d1)\n",
    "d2_preds_gp = np.zeros_like(test_y_d2)\n",
    "d3_preds_gp = np.zeros_like(test_y_d3)\n",
    "d4_preds_gp = np.zeros_like(test_y_d4)\n",
    "\n",
    "d1_std_gp = np.zeros_like(test_y_d1)\n",
    "d2_std_gp = np.zeros_like(test_y_d2)\n",
    "d3_std_gp = np.zeros_like(test_y_d3)\n",
    "d4_std_gp = np.zeros_like(test_y_d4)\n",
    "\n",
    "for i in range(test_y_d1.shape[0]):\n",
    "    d1_preds_gp, d1_std_gp = gp_d1.predict(test_X_d1, return_std=True)\n",
    "    d2_preds_gp, d2_std_gp = gp_d2.predict(test_X_d2, return_std=True)\n",
    "    d3_preds_gp, d3_std_gp = gp_d3.predict(test_X_d3, return_std=True)\n",
    "    d4_preds_gp, d4_std_gp = gp_d4.predict(test_X_d4, return_std=True)\n",
    "\n",
    "print(f\"MSE d1: {metrics.mean_absolute_error(test_y_d1, d1_preds_gp)}, kernel: {gp_d1.kernel_}\")\n",
    "print(f\"MSE d2: {metrics.mean_absolute_error(test_y_d2, d2_preds_gp)}, kernel: {gp_d2.kernel_}\")\n",
    "print(f\"MSE d3: {metrics.mean_absolute_error(test_y_d3, d3_preds_gp)}, kernel: {gp_d3.kernel_}\")\n",
    "print(f\"MSE d4: {metrics.mean_absolute_error(test_y_d4, d4_preds_gp)}, kernel: {gp_d4.kernel_}\")"
   ]
  }
 ],
 "metadata": {
  "interpreter": {
   "hash": "b0d0f0160cacfb35fe8642b675725525dd1061e27bd6ae6db2781150554066f0"
  },
  "kernelspec": {
   "display_name": "Python 3.7.3 ('venv': venv)",
   "language": "python",
   "name": "python3"
  },
  "language_info": {
   "codemirror_mode": {
    "name": "ipython",
    "version": 3
   },
   "file_extension": ".py",
   "mimetype": "text/x-python",
   "name": "python",
   "nbconvert_exporter": "python",
   "pygments_lexer": "ipython3",
   "version": "3.7.5"
  },
  "orig_nbformat": 4
 },
 "nbformat": 4,
 "nbformat_minor": 2
}
