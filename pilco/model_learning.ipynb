{
 "cells": [
  {
   "cell_type": "code",
   "execution_count": 1,
   "metadata": {},
   "outputs": [],
   "source": [
    "%load_ext autoreload\n",
    "%autoreload 2\n",
    "\n",
    "import jax.numpy as jnp\n",
    "import numpy as np\n",
    "import optax\n",
    "import jax.random as jrandom\n",
    "import matplotlib.pyplot as plt\n",
    "\n",
    "from learn_model import train_transition_models, state_prediction, grad_marg_lkhd, marginal_likelihood\n",
    "from trans_model import prior"
   ]
  },
  {
   "cell_type": "code",
   "execution_count": 2,
   "metadata": {},
   "outputs": [
    {
     "name": "stderr",
     "output_type": "stream",
     "text": [
      "WARNING:absl:No GPU/TPU found, falling back to CPU. (Set TF_CPP_MIN_LOG_LEVEL=0 and rerun for more info.)\n"
     ]
    }
   ],
   "source": [
    "WEIGHTS = jnp.array([0.5, -1.15])\n",
    "NOISE = 0.1\n",
    "\n",
    "def sample(xs, epsilons):\n",
    "    ins = jnp.stack([jnp.array([1., x]) for x in xs])\n",
    "    outs = ins @ WEIGHTS + epsilons * NOISE\n",
    "    return ins, outs"
   ]
  },
  {
   "cell_type": "code",
   "execution_count": 3,
   "metadata": {},
   "outputs": [],
   "source": [
    "SEED = jrandom.PRNGKey(1)\n",
    "NUM_POINTS = 100\n",
    "xs = np.linspace(-2., 2., NUM_POINTS)\n",
    "epsilons = jrandom.normal(SEED, shape=(NUM_POINTS,))\n",
    "inputs, outputs = sample(xs, epsilons)"
   ]
  },
  {
   "cell_type": "code",
   "execution_count": 4,
   "metadata": {},
   "outputs": [
    {
     "data": {
      "image/png": "[encoded data removed]",
      "text/plain": [
       "<Figure size 864x360 with 1 Axes>"
      ]
     },
     "metadata": {
      "needs_background": "light"
     },
     "output_type": "display_data"
    }
   ],
   "source": [
    "plt.figure(figsize=(12, 5))\n",
    "plt.scatter(xs, outputs)\n",
    "plt.show()"
   ]
  },
  {
   "cell_type": "markdown",
   "metadata": {},
   "source": [
    "### Predictions Without Optimisation"
   ]
  },
  {
   "cell_type": "code",
   "execution_count": 310,
   "metadata": {},
   "outputs": [
    {
     "name": "stdout",
     "output_type": "stream",
     "text": [
      "(100, 1000)\n"
     ]
    }
   ],
   "source": [
    "BETA = 20\n",
    "ALPHA = 10.\n",
    "NUM_FEATURES = 1000\n",
    "MODEL_NOISE = 0.5\n",
    "lengthscales = jnp.full((NUM_FEATURES, 1), .65) \n",
    "# lengthscales = jnp.load('1d_lengthscales.npy')\n",
    "# coefs = jnp.full_like(lengthscales, 5.)\n",
    "coefs = jnp.load('1d_coefs.npy')\n",
    "\n",
    "model = prior(NUM_FEATURES, alpha=ALPHA)\n",
    "model = train_transition_models(\n",
    "    xs, outputs, BETA, model, NUM_FEATURES, lengthscales, coefs, SEED\n",
    ") "
   ]
  },
  {
   "cell_type": "code",
   "execution_count": 308,
   "metadata": {},
   "outputs": [],
   "source": [
    "key = SEED\n",
    "N = 1000\n",
    "state_predictions = np.zeros((xs.shape[0], N))\n",
    "for i, state in enumerate(xs):\n",
    "    # key, subkey = jrandom.split(key)\n",
    "    state = jnp.array([[state]])\n",
    "    next_state = state_prediction(state, model, MODEL_NOISE, NUM_FEATURES, lengthscales, coefs, BETA, N, key)\n",
    "    state_predictions[i] = next_state.squeeze()\n"
   ]
  },
  {
   "cell_type": "code",
   "execution_count": 309,
   "metadata": {},
   "outputs": [
    {
     "data": {
      "image/png": "[encoded data removed]",
      "text/plain": [
       "<Figure size 864x360 with 1 Axes>"
      ]
     },
     "metadata": {
      "needs_background": "light"
     },
     "output_type": "display_data"
    }
   ],
   "source": [
    "plt.figure(figsize=(12, 5))\n",
    "plt.scatter(xs, state_predictions.mean(axis=1), color='orange')\n",
    "plt.scatter(xs, outputs, label=\"True state\")\n",
    "plt.legend()\n",
    "plt.show()"
   ]
  },
  {
   "cell_type": "markdown",
   "metadata": {},
   "source": [
    "### Predictions After Optimisation"
   ]
  },
  {
   "cell_type": "code",
   "execution_count": 296,
   "metadata": {},
   "outputs": [],
   "source": [
    "BETA = 20.\n",
    "ALPHA = 10.\n",
    "NUM_FEATURES = 1000\n",
    "MODEL_NOISE = 0.5\n",
    "lengthscales = jnp.full((NUM_FEATURES, 1), .65) \n",
    "coefs = jnp.load('1d_coefs.npy')\n",
    "# coefs = jnp.full_like(lengthscales, 0.3)\n",
    "\n",
    "model = prior(NUM_FEATURES, alpha=ALPHA)\n",
    "model_opt = train_transition_models(\n",
    "    xs, outputs, BETA, model, NUM_FEATURES, lengthscales, coefs, SEED\n",
    ") "
   ]
  },
  {
   "cell_type": "code",
   "execution_count": 306,
   "metadata": {},
   "outputs": [
    {
     "name": "stdout",
     "output_type": "stream",
     "text": [
      "Step 0, objective: 1438.455078125\n",
      "Step 10, objective: 1432.8587646484375\n",
      "Step 20, objective: 1432.384033203125\n",
      "Step 30, objective: 1430.518798828125\n",
      "Step 40, objective: 1429.1513671875\n",
      "Step 50, objective: 1428.6697998046875\n",
      "Step 60, objective: 1428.068603515625\n",
      "Step 70, objective: 1428.1090087890625\n",
      "Step 80, objective: 1428.2374267578125\n",
      "Step 90, objective: 1428.5780029296875\n"
     ]
    }
   ],
   "source": [
    "N = 1000\n",
    "start_states = jnp.concatenate([jnp.array([[x]]) for x in xs])\n",
    "obs_states = outputs\n",
    "indices = jnp.arange(NUM_POINTS)\n",
    "\n",
    "params = jnp.array([coefs])\n",
    "optimizer = optax.chain(\n",
    "    optax.adam(learning_rate=0.003),\n",
    "    # optax.scale(-1.0)\n",
    ")\n",
    "opt_state = optimizer.init(params)\n",
    "\n",
    "key = SEED\n",
    "for i in range(100):    \n",
    "    grads = grad_marg_lkhd(\n",
    "        start_states, obs_states, model_opt, NUM_FEATURES, lengthscales, params[0],\n",
    "        BETA, indices, MODEL_NOISE, 8, N, key\n",
    "    )\n",
    "\n",
    "    updates, opt_state = optimizer.update(grads, opt_state, params)\n",
    "    params = optax.apply_updates(params, updates)\n",
    "\n",
    "    if i % 10 == 0:\n",
    "        objective = marginal_likelihood(\n",
    "            start_states, obs_states, model_opt, NUM_FEATURES, lengthscales, params[0],\n",
    "            BETA, indices, MODEL_NOISE, N, key\n",
    "        )\n",
    "        print(f\"Step {i}, objective: {objective}\")\n",
    "\n",
    "np.save('1d_coefs.npy', params[0])"
   ]
  },
  {
   "cell_type": "code",
   "execution_count": 32,
   "metadata": {},
   "outputs": [],
   "source": [
    "key = SEED\n",
    "N = 1000\n",
    "state_predictions2 = np.zeros_like(xs)\n",
    "for i, x in enumerate(xs):\n",
    "    key, subkey = jrandom.split(key)\n",
    "    state = jnp.array([x])\n",
    "    next_state = state_prediction(state, model_opt, MODEL_NOISE, NUM_FEATURES, lengthscales, coefs, BETA, N, subkey)\n",
    "    state_predictions2[i] = next_state.squeeze().mean()\n"
   ]
  },
  {
   "cell_type": "code",
   "execution_count": 34,
   "metadata": {},
   "outputs": [
    {
     "data": {
      "image/png": "[encoded data removed]",
      "text/plain": [
       "<Figure size 864x360 with 1 Axes>"
      ]
     },
     "metadata": {
      "needs_background": "light"
     },
     "output_type": "display_data"
    }
   ],
   "source": [
    "plt.figure(figsize=(12, 5))\n",
    "plt.scatter(xs, state_predictions2, label=\"Predicted states\")\n",
    "plt.scatter(xs, samples, label=\"True state\")\n",
    "plt.legend()\n",
    "plt.show()"
   ]
  }
 ],
 "metadata": {
  "interpreter": {
   "hash": "366a8b492ecfaa4bf0d62f346fb918a62b31586cc3831a460e2f83d29276260d"
  },
  "kernelspec": {
   "display_name": "Python 3.7.5 ('venv': venv)",
   "language": "python",
   "name": "python3"
  },
  "language_info": {
   "codemirror_mode": {
    "name": "ipython",
    "version": 3
   },
   "file_extension": ".py",
   "mimetype": "text/x-python",
   "name": "python",
   "nbconvert_exporter": "python",
   "pygments_lexer": "ipython3",
   "version": "3.7.5"
  },
  "orig_nbformat": 4
 },
 "nbformat": 4,
 "nbformat_minor": 2
}
