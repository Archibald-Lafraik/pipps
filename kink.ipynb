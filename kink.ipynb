{
 "cells": [
  {
   "cell_type": "code",
   "execution_count": 1,
   "metadata": {},
   "outputs": [],
   "source": [
    "import numpy as np\n",
    "import matplotlib.pyplot as plt\n",
    "import matplotlib.ticker as tick\n",
    "from matplotlib import rc\n",
    "\n",
    "import jax.numpy as jnp\n",
    "import jax.random as jrandom\n",
    "import jax.scipy\n",
    "from jax import value_and_grad\n"
   ]
  },
  {
   "cell_type": "markdown",
   "metadata": {},
   "source": [
    "### Constants and utils"
   ]
  },
  {
   "cell_type": "code",
   "execution_count": 2,
   "metadata": {},
   "outputs": [
    {
     "name": "stderr",
     "output_type": "stream",
     "text": [
      "WARNING:absl:No GPU/TPU found, falling back to CPU. (Set TF_CPP_MIN_LOG_LEVEL=0 and rerun for more info.)\n"
     ]
    }
   ],
   "source": [
    "# Variance of observations\n",
    "obs_noise = 1\n",
    "\n",
    "rand_key = jrandom.PRNGKey(1)"
   ]
  },
  {
   "cell_type": "markdown",
   "metadata": {},
   "source": [
    "### Kink-shaped function"
   ]
  },
  {
   "cell_type": "code",
   "execution_count": 3,
   "metadata": {},
   "outputs": [],
   "source": [
    "def foo(x):\n",
    "    if x < 4:\n",
    "        return x + 1\n",
    "    else:\n",
    "        return -4 * x + 21"
   ]
  },
  {
   "cell_type": "code",
   "execution_count": 4,
   "metadata": {},
   "outputs": [],
   "source": [
    "def get_samples(num_samples, obs_noise=1):\n",
    "    x_samples = np.zeros((num_samples + 1,))\n",
    "    x_samples[0] = np.random.uniform(-10, -8)\n",
    "    y_samples = np.zeros((num_samples,))\n",
    "    \n",
    "    for i in range(num_samples):\n",
    "        y = np.random.normal(foo(x_samples[i]), obs_noise)\n",
    "        y_samples[i] = y\n",
    "        x_samples[i + 1] = y\n",
    "\n",
    "    return x_samples[:-1], y_samples"
   ]
  },
  {
   "cell_type": "markdown",
   "metadata": {},
   "source": [
    "Plotting"
   ]
  },
  {
   "cell_type": "code",
   "execution_count": 5,
   "metadata": {},
   "outputs": [],
   "source": [
    "xs = np.linspace(-10,8, 200)"
   ]
  },
  {
   "cell_type": "code",
   "execution_count": 6,
   "metadata": {},
   "outputs": [],
   "source": [
    "ys = [foo(x) for x in xs]\n",
    "samples_x, samples_y = get_samples(100, 1)"
   ]
  },
  {
   "cell_type": "code",
   "execution_count": 7,
   "metadata": {},
   "outputs": [
    {
     "data": {
      "image/png": "[encoded data removed]",
      "text/plain": [
       "<Figure size 720x360 with 1 Axes>"
      ]
     },
     "metadata": {
      "needs_background": "light"
     },
     "output_type": "display_data"
    }
   ],
   "source": [
    "plt.figure(figsize=(10,5))\n",
    "params = {'mathtext.default': 'regular' }          \n",
    "plt.rcParams.update(params)\n",
    "plt.xlabel('$x_{t}$')\n",
    "plt.ylabel('$x_{t + 1}$')\n",
    "plt.plot(xs, ys, color='green')\n",
    "plt.scatter(samples_x, samples_y, color='red')\n",
    "plt.show()"
   ]
  },
  {
   "cell_type": "markdown",
   "metadata": {},
   "source": [
    "### Linear regression"
   ]
  },
  {
   "cell_type": "code",
   "execution_count": 8,
   "metadata": {},
   "outputs": [],
   "source": [
    "basis_dims = 2"
   ]
  },
  {
   "cell_type": "code",
   "execution_count": 9,
   "metadata": {},
   "outputs": [],
   "source": [
    "def basis_functions(X):\n",
    "    phi = np.zeros((basis_dims + 1, X.shape[0]))\n",
    "    for i in range(0, basis_dims + 1):\n",
    "        phi[i] = np.power(X, i)\n",
    "    return phi\n",
    "\n",
    "def loss(theta, phi, obs_noise, y):\n",
    "#     log_likelihood = jax.scipy.stats.norm.logpdf(y, phi.T @ theta, obs_noise)\n",
    "#     return (-1) * jnp.mean(log_likelihood)\n",
    "\n",
    "    return jnp.mean(jnp.power(y - (phi.T @ theta), 2))\n",
    "\n",
    "def gradient_descent(X, y, lr=jnp.array([0.0001, 0.0001, 0.0001]), obs_noise=1, num_steps=25):\n",
    "    theta = np.random.normal(size=(basis_dims + 1,))\n",
    "    phi = basis_functions(X)\n",
    "    print(f\"START - theta = {theta}\")\n",
    "    for i in range(num_steps):\n",
    "        loss_val, grad_loss = value_and_grad(loss, 0)(theta, phi, obs_noise, y)\n",
    "        theta = theta - np.multiply(lr, grad_loss)\n",
    "        print(f\"STEP: {i}, loss = {loss_val}, theta: {theta}\")\n",
    "    return theta"
   ]
  },
  {
   "cell_type": "code",
   "execution_count": 10,
   "metadata": {},
   "outputs": [
    {
     "name": "stdout",
     "output_type": "stream",
     "text": [
      "START - theta = [0.56674765 1.53199976 0.30726231]\n",
      "STEP: 0, loss = 8844504.0, theta: [1.00638832e+00 3.44679396e+01 2.62699818e+03]\n",
      "STEP: 1, loss = 134536780316672.0, theta: [-1.72382772e+03 -1.28675235e+05 -1.02422050e+07]\n",
      "STEP: 2, loss = 2.046599911326064e+21, theta: [6.72560717e+06 5.01875037e+08 3.99474953e+10]\n",
      "STEP: 3, loss = 3.1133289543792438e+28, theta: [-2.62317609e+10 -1.95745494e+12 -1.55806481e+14]\n",
      "STEP: 4, loss = 4.736057127147498e+35, theta: [1.02311271e+14 7.63462486e+15 6.07689268e+17]\n",
      "STEP: 5, loss = inf, theta: [-3.99042778e+17 -2.97771920e+19 -2.37015921e+21]\n",
      "STEP: 6, loss = inf, theta: [1.55637924e+21 1.16139422e+23 9.24429032e+24]\n",
      "STEP: 7, loss = inf, theta: [-6.07031856e+24 -4.52976552e+26 -3.60553363e+28]\n",
      "STEP: 8, loss = inf, theta: [2.36759530e+28 1.76673650e+30 1.40625984e+32]\n",
      "STEP: 9, loss = inf, theta: [-9.23428989e+31 -6.89076958e+33            -inf]\n",
      "STEP: 10, loss = nan, theta: [nan nan nan]\n",
      "STEP: 11, loss = nan, theta: [nan nan nan]\n",
      "STEP: 12, loss = nan, theta: [nan nan nan]\n",
      "STEP: 13, loss = nan, theta: [nan nan nan]\n",
      "STEP: 14, loss = nan, theta: [nan nan nan]\n",
      "STEP: 15, loss = nan, theta: [nan nan nan]\n",
      "STEP: 16, loss = nan, theta: [nan nan nan]\n",
      "STEP: 17, loss = nan, theta: [nan nan nan]\n",
      "STEP: 18, loss = nan, theta: [nan nan nan]\n",
      "STEP: 19, loss = nan, theta: [nan nan nan]\n",
      "STEP: 20, loss = nan, theta: [nan nan nan]\n",
      "STEP: 21, loss = nan, theta: [nan nan nan]\n",
      "STEP: 22, loss = nan, theta: [nan nan nan]\n",
      "STEP: 23, loss = nan, theta: [nan nan nan]\n",
      "STEP: 24, loss = nan, theta: [nan nan nan]\n"
     ]
    },
    {
     "data": {
      "text/plain": [
       "array([nan, nan, nan])"
      ]
     },
     "execution_count": 10,
     "metadata": {},
     "output_type": "execute_result"
    }
   ],
   "source": [
    "X, y = np.array([x for x in range(100)]), np.array([x ** 2 for x in range(100)])\n",
    "\n",
    "gradient_descent(X, y)"
   ]
  },
  {
   "cell_type": "code",
   "execution_count": null,
   "metadata": {},
   "outputs": [],
   "source": []
  }
 ],
 "metadata": {
  "interpreter": {
   "hash": "aee8b7b246df8f9039afb4144a1f6fd8d2ca17a180786b69acc140d282b71a49"
  },
  "kernelspec": {
   "display_name": "Python 3 (ipykernel)",
   "language": "python",
   "name": "python3"
  },
  "language_info": {
   "codemirror_mode": {
    "name": "ipython",
    "version": 3
   },
   "file_extension": ".py",
   "mimetype": "text/x-python",
   "name": "python",
   "nbconvert_exporter": "python",
   "pygments_lexer": "ipython3",
   "version": "3.7.3"
  }
 },
 "nbformat": 4,
 "nbformat_minor": 2
}
